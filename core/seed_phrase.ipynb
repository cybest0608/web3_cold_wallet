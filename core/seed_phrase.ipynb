{
 "cells": [
  {
   "cell_type": "code",
   "execution_count": 5,
   "id": "acb91d03",
   "metadata": {},
   "outputs": [
    {
     "name": "stdout",
     "output_type": "stream",
     "text": [
      "ripple strong elite equal ritual chat december alpha confirm option thing void\n",
      "Mnemonic Phrase: ripple strong elite equal ritual chat december alpha confirm option thing void\n",
      "Aptos Address: 25a46986228c2e6dc34e2b02ceeb266a6bd910c54d9822966a44dc156dc4ca34\n"
     ]
    }
   ],
   "source": [
    "from mnemonic import Mnemonic\n",
    "import os\n",
    "from bip_utils import Bip39SeedGenerator, Bip44, Bip44Coins\n",
    "import hashlib\n",
    "from bip_utils import Bip44Changes\n",
    "# Initialize Mnemonic Generator\n",
    "mnemo = Mnemonic(\"english\")\n",
    "\n",
    "# Generate entropy & mnemonic\n",
    "entropy = os.urandom(16)\n",
    "mnemonic_phrase = mnemo.to_mnemonic(entropy)\n",
    "print(mnemonic_phrase)\n",
    "\n",
    "# Generate seed from mnemonic\n",
    "seed_bytes = Bip39SeedGenerator(mnemonic_phrase).Generate()\n",
    "\n",
    "# Derive the Aptos private key using BIP44\n",
    "bip44_mst_ctx = Bip44.FromSeed(seed_bytes, Bip44Coins.APTOS)\n",
    "bip44_acc_ctx = bip44_mst_ctx.Purpose().Coin().Account(0)\n",
    "\n",
    "\n",
    "bip44_chg_ctx = bip44_acc_ctx.Change(Bip44Changes.CHAIN_EXT)  # External chain\n",
    "\n",
    "bip44_addr_ctx = bip44_chg_ctx.AddressIndex(0)\n",
    "\n",
    "# Extract private key\n",
    "private_key = bip44_addr_ctx.PrivateKey().Raw().ToBytes()\n",
    "\n",
    "# Compute Aptos address (SHA3-256 hash of public key)\n",
    "aptos_address = hashlib.sha3_256(private_key).hexdigest()\n",
    "\n",
    "print(\"Mnemonic Phrase:\", mnemonic_phrase)\n",
    "print(\"Aptos Address:\", aptos_address)\n"
   ]
  },
  {
   "cell_type": "code",
   "execution_count": 7,
   "id": "3c75d261",
   "metadata": {},
   "outputs": [
    {
     "name": "stdout",
     "output_type": "stream",
     "text": [
      "0x52a13f0b52381fec0707a4681a1755c415a2aa920cfd226b916c7cfa32afb599\n"
     ]
    }
   ],
   "source": [
    "private_key_hex = \"0x\" + private_key.hex()\n",
    "print(private_key_hex)\n"
   ]
  },
  {
   "cell_type": "code",
   "execution_count": 1,
   "id": "22abc22d",
   "metadata": {},
   "outputs": [
    {
     "name": "stdout",
     "output_type": "stream",
     "text": [
      "It is recommended that private keys are AIP-80 compliant (https://github.com/aptos-foundation/AIPs/blob/main/aips/aip-80.md).\n"
     ]
    }
   ],
   "source": [
    "from aptos_sdk.ed25519 import PrivateKey\n",
    "private_key = PrivateKey.from_hex(\"52a13f0b52381fec0707a4681a1755c415a2aa920cfd226b916c7cfa32afb599\")"
   ]
  },
  {
   "cell_type": "code",
   "execution_count": 2,
   "id": "d6d36a94",
   "metadata": {},
   "outputs": [
    {
     "data": {
      "text/plain": [
       "0xbdb33ad57efca8e20dce56d7cf2f7452fb4cea43ec6bb820524e6a8ada0d4ae4"
      ]
     },
     "execution_count": 2,
     "metadata": {},
     "output_type": "execute_result"
    }
   ],
   "source": [
    "from aptos_sdk import asymmetric_crypto, asymmetric_crypto_wrapper, ed25519, secp256k1_ecdsa\n",
    "from aptos_sdk.account_address import AccountAddress\n",
    "add=AccountAddress.from_key(private_key.public_key())\n",
    "add"
   ]
  },
  {
   "cell_type": "code",
   "execution_count": 3,
   "id": "f91a8c56",
   "metadata": {},
   "outputs": [
    {
     "name": "stdout",
     "output_type": "stream",
     "text": [
      "Connected to Aptos devnet\n"
     ]
    }
   ],
   "source": [
    "import asyncio\n",
    "from aptos_sdk.account import Account\n",
    "from aptos_sdk.async_client import FaucetClient, RestClient\n",
    "from aptos_sdk.transactions import EntryFunction, TransactionPayload, TransactionArgument, RawTransaction\n",
    "from aptos_sdk.bcs import Serializer\n",
    "import time\n",
    " \n",
    "# Network configuration\n",
    "NODE_URL = \"https://fullnode.testnet.aptoslabs.com/v1\"\n",
    "FAUCET_URL = \"https://faucet.testnet.aptoslabs.com\"\n",
    " \n",
    "\n",
    "rest_client = RestClient(NODE_URL)\n",
    "faucet_client = FaucetClient(FAUCET_URL, rest_client)\n",
    "    \n",
    "print(\"Connected to Aptos devnet\")"
   ]
  },
  {
   "cell_type": "code",
   "execution_count": 4,
   "id": "6f7e7849",
   "metadata": {},
   "outputs": [],
   "source": [
    "alice_balance = await rest_client.account_balance(add)"
   ]
  },
  {
   "cell_type": "code",
   "execution_count": 5,
   "id": "1ede426c",
   "metadata": {},
   "outputs": [
    {
     "data": {
      "text/plain": [
       "200000000"
      ]
     },
     "execution_count": 5,
     "metadata": {},
     "output_type": "execute_result"
    }
   ],
   "source": [
    "alice_balance"
   ]
  },
  {
   "cell_type": "code",
   "execution_count": null,
   "id": "3c907d12",
   "metadata": {},
   "outputs": [],
   "source": []
  },
  {
   "cell_type": "code",
   "execution_count": null,
   "id": "3656da3b",
   "metadata": {},
   "outputs": [],
   "source": []
  },
  {
   "cell_type": "code",
   "execution_count": null,
   "id": "9beb3733",
   "metadata": {},
   "outputs": [],
   "source": []
  },
  {
   "cell_type": "code",
   "execution_count": 22,
   "id": "0b72e9a4",
   "metadata": {},
   "outputs": [
    {
     "data": {
      "text/plain": [
       "0x5ab45da7407df289ba6058b997e51c8cf157185a6604c0b76c7b0bc597fd7274"
      ]
     },
     "execution_count": 22,
     "metadata": {},
     "output_type": "execute_result"
    }
   ],
   "source": [
    "from aptos_sdk import asymmetric_crypto, asymmetric_crypto_wrapper, ed25519, secp256k1_ecdsa\n",
    "from aptos_sdk.account_address import AccountAddress\n",
    "private_key_t = ed25519.PrivateKey.random()\n",
    "private_key_t.public_key()\n",
    "add=AccountAddress.from_key(private_key_t.public_key())\n",
    "add"
   ]
  },
  {
   "cell_type": "code",
   "execution_count": null,
   "id": "607fdb50",
   "metadata": {},
   "outputs": [],
   "source": [
    "alice_balance = await rest_client.account_balance(account_address)"
   ]
  },
  {
   "cell_type": "code",
   "execution_count": null,
   "id": "c43607b7",
   "metadata": {},
   "outputs": [],
   "source": []
  },
  {
   "cell_type": "code",
   "execution_count": null,
   "id": "ccac723d",
   "metadata": {},
   "outputs": [],
   "source": []
  },
  {
   "cell_type": "code",
   "execution_count": null,
   "id": "14e5a141",
   "metadata": {},
   "outputs": [],
   "source": []
  },
  {
   "cell_type": "code",
   "execution_count": 24,
   "id": "4860d877",
   "metadata": {},
   "outputs": [
    {
     "data": {
      "text/plain": [
       "<aptos_sdk.ed25519.PublicKey at 0x2346942d690>"
      ]
     },
     "execution_count": 24,
     "metadata": {},
     "output_type": "execute_result"
    }
   ],
   "source": [
    "private_key_t.public_key()"
   ]
  },
  {
   "cell_type": "code",
   "execution_count": null,
   "id": "b7afd14a",
   "metadata": {},
   "outputs": [],
   "source": []
  },
  {
   "cell_type": "code",
   "execution_count": null,
   "id": "3a123e32",
   "metadata": {},
   "outputs": [],
   "source": [
    "from aptos_sdk.account import Account\n",
    "testacc=Account"
   ]
  },
  {
   "cell_type": "code",
   "execution_count": null,
   "id": "b159ed98",
   "metadata": {},
   "outputs": [],
   "source": []
  },
  {
   "cell_type": "code",
   "execution_count": null,
   "id": "9c45598c",
   "metadata": {},
   "outputs": [],
   "source": []
  },
  {
   "cell_type": "code",
   "execution_count": 11,
   "id": "9f7e7e4c",
   "metadata": {},
   "outputs": [
    {
     "ename": "ImportError",
     "evalue": "cannot import name 'AptosClient' from 'aptos_sdk' (c:\\Users\\cybes\\anaconda3\\envs\\wallet\\lib\\site-packages\\aptos_sdk\\__init__.py)",
     "output_type": "error",
     "traceback": [
      "\u001b[1;31m---------------------------------------------------------------------------\u001b[0m",
      "\u001b[1;31mImportError\u001b[0m                               Traceback (most recent call last)",
      "Cell \u001b[1;32mIn[11], line 1\u001b[0m\n\u001b[1;32m----> 1\u001b[0m \u001b[38;5;28;01mfrom\u001b[39;00m\u001b[38;5;250m \u001b[39m\u001b[38;5;21;01maptos_sdk\u001b[39;00m\u001b[38;5;250m \u001b[39m\u001b[38;5;28;01mimport\u001b[39;00m AptosClient\n\u001b[0;32m      4\u001b[0m client \u001b[38;5;241m=\u001b[39m AptosClient(\u001b[38;5;124m\"\u001b[39m\u001b[38;5;124mhttps://fullnode.testnet.aptoslabs.com\u001b[39m\u001b[38;5;124m\"\u001b[39m)\n\u001b[0;32m      5\u001b[0m account_address \u001b[38;5;241m=\u001b[39m \u001b[38;5;124m\"\u001b[39m\u001b[38;5;124m0xbdb33ad57efca8e20dce56d7cf2f7452fb4cea43ec6bb820524e6a8ada0d4ae4\u001b[39m\u001b[38;5;124m\"\u001b[39m\n",
      "\u001b[1;31mImportError\u001b[0m: cannot import name 'AptosClient' from 'aptos_sdk' (c:\\Users\\cybes\\anaconda3\\envs\\wallet\\lib\\site-packages\\aptos_sdk\\__init__.py)"
     ]
    }
   ],
   "source": [
    "from aptos_sdk.client import AptosClient\n",
    "\n",
    "client = AptosClient(\"https://fullnode.testnet.aptoslabs.com\")\n",
    "account_address = \"0xbdb33ad57efca8e20dce56d7cf2f7452fb4cea43ec6bb820524e6a8ada0d4ae4\"\n",
    "\n",
    "# Fetch account balance\n",
    "balance = client.get_account_balance(account_address)\n",
    "print(f\"Balance: {balance} APT\")\n"
   ]
  },
  {
   "cell_type": "code",
   "execution_count": 5,
   "id": "f3d6345a",
   "metadata": {},
   "outputs": [
    {
     "name": "stdout",
     "output_type": "stream",
     "text": [
      "Connected to Aptos devnet\n"
     ]
    }
   ],
   "source": [
    "import asyncio\n",
    "from aptos_sdk.account import Account\n",
    "from aptos_sdk.async_client import FaucetClient, RestClient\n",
    "from aptos_sdk.transactions import EntryFunction, TransactionPayload, TransactionArgument, RawTransaction\n",
    "from aptos_sdk.bcs import Serializer\n",
    "import time\n",
    " \n",
    "# Network configuration\n",
    "NODE_URL = \"https://fullnode.devnet.aptoslabs.com/v1\"\n",
    "FAUCET_URL = \"https://faucet.devnet.aptoslabs.com\"\n",
    " \n",
    "\n",
    "rest_client = RestClient(NODE_URL)\n",
    "faucet_client = FaucetClient(FAUCET_URL, rest_client)\n",
    "    \n",
    "print(\"Connected to Aptos devnet\")\n",
    "    \n"
   ]
  },
  {
   "cell_type": "code",
   "execution_count": null,
   "id": "fb74f14a",
   "metadata": {},
   "outputs": [],
   "source": []
  },
  {
   "cell_type": "code",
   "execution_count": 7,
   "id": "8a2ec6cf",
   "metadata": {},
   "outputs": [
    {
     "name": "stdout",
     "output_type": "stream",
     "text": [
      "Alice's address: 0xbe8043a37e548336d259f0b7205dd9bc24c26519e27eae8656587ccee7292ceb\n"
     ]
    }
   ],
   "source": [
    "alice = Account.generate()\n",
    "print(f\"Alice's address: {alice.address()}\")"
   ]
  },
  {
   "cell_type": "code",
   "execution_count": 18,
   "id": "0efa7511",
   "metadata": {},
   "outputs": [
    {
     "data": {
      "text/plain": [
       "0xbe8043a37e548336d259f0b7205dd9bc24c26519e27eae8656587ccee7292ceb"
      ]
     },
     "execution_count": 18,
     "metadata": {},
     "output_type": "execute_result"
    }
   ],
   "source": [
    "alice.address()"
   ]
  },
  {
   "cell_type": "code",
   "execution_count": 15,
   "id": "17da31da",
   "metadata": {},
   "outputs": [],
   "source": [
    "account_address = alice.address()\n",
    "alice_balance = await rest_client.account_balance(account_address)"
   ]
  },
  {
   "cell_type": "code",
   "execution_count": 16,
   "id": "35801df0",
   "metadata": {},
   "outputs": [
    {
     "data": {
      "text/plain": [
       "0"
      ]
     },
     "execution_count": 16,
     "metadata": {},
     "output_type": "execute_result"
    }
   ],
   "source": [
    "alice_balance"
   ]
  },
  {
   "cell_type": "code",
   "execution_count": null,
   "id": "13595c1b",
   "metadata": {},
   "outputs": [],
   "source": []
  }
 ],
 "metadata": {
  "kernelspec": {
   "display_name": "wallet",
   "language": "python",
   "name": "python3"
  },
  "language_info": {
   "codemirror_mode": {
    "name": "ipython",
    "version": 3
   },
   "file_extension": ".py",
   "mimetype": "text/x-python",
   "name": "python",
   "nbconvert_exporter": "python",
   "pygments_lexer": "ipython3",
   "version": "3.11.13"
  }
 },
 "nbformat": 4,
 "nbformat_minor": 5
}
